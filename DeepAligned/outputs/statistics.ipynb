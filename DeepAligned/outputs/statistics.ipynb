{
 "cells": [
  {
   "cell_type": "code",
   "execution_count": 2,
   "metadata": {},
   "outputs": [],
   "source": [
    "import pandas as pd\n",
    "files = ['results.csv']\n",
    "for file in files:\n",
    "    cols = ['NMI', 'ARI', 'ACC', 'task_name', 'known_cls_ratio','labeled_ratio','fraction','method','seed']\n",
    "    df = pd.read_csv(file)\n",
    "    df_mean = df[cols].groupby(['task_name','known_cls_ratio','method','labeled_ratio','fraction']).mean().round(2).reset_index()"
   ]
  },
  {
   "cell_type": "code",
   "execution_count": 3,
   "metadata": {},
   "outputs": [
    {
     "data": {
      "text/html": [
       "<div>\n",
       "<style scoped>\n",
       "    .dataframe tbody tr th:only-of-type {\n",
       "        vertical-align: middle;\n",
       "    }\n",
       "\n",
       "    .dataframe tbody tr th {\n",
       "        vertical-align: top;\n",
       "    }\n",
       "\n",
       "    .dataframe thead th {\n",
       "        text-align: right;\n",
       "    }\n",
       "</style>\n",
       "<table border=\"1\" class=\"dataframe\">\n",
       "  <thead>\n",
       "    <tr style=\"text-align: right;\">\n",
       "      <th></th>\n",
       "      <th>task_name</th>\n",
       "      <th>known_cls_ratio</th>\n",
       "      <th>method</th>\n",
       "      <th>labeled_ratio</th>\n",
       "      <th>fraction</th>\n",
       "      <th>NMI</th>\n",
       "      <th>ARI</th>\n",
       "      <th>ACC</th>\n",
       "      <th>seed</th>\n",
       "    </tr>\n",
       "  </thead>\n",
       "  <tbody>\n",
       "    <tr>\n",
       "      <th>0</th>\n",
       "      <td>banking</td>\n",
       "      <td>0.75</td>\n",
       "      <td>DeepAligned</td>\n",
       "      <td>0.1</td>\n",
       "      <td>1.0</td>\n",
       "      <td>79.42</td>\n",
       "      <td>53.29</td>\n",
       "      <td>64.74</td>\n",
       "      <td>3.5</td>\n",
       "    </tr>\n",
       "    <tr>\n",
       "      <th>1</th>\n",
       "      <td>clinc</td>\n",
       "      <td>0.75</td>\n",
       "      <td>DeepAligned</td>\n",
       "      <td>0.1</td>\n",
       "      <td>1.0</td>\n",
       "      <td>93.89</td>\n",
       "      <td>79.79</td>\n",
       "      <td>86.55</td>\n",
       "      <td>3.5</td>\n",
       "    </tr>\n",
       "    <tr>\n",
       "      <th>2</th>\n",
       "      <td>stackoverflow</td>\n",
       "      <td>0.75</td>\n",
       "      <td>DeepAligned</td>\n",
       "      <td>0.1</td>\n",
       "      <td>1.0</td>\n",
       "      <td>76.37</td>\n",
       "      <td>61.99</td>\n",
       "      <td>79.21</td>\n",
       "      <td>3.0</td>\n",
       "    </tr>\n",
       "  </tbody>\n",
       "</table>\n",
       "</div>"
      ],
      "text/plain": [
       "       task_name  known_cls_ratio       method  labeled_ratio  fraction  \\\n",
       "0        banking             0.75  DeepAligned            0.1       1.0   \n",
       "1          clinc             0.75  DeepAligned            0.1       1.0   \n",
       "2  stackoverflow             0.75  DeepAligned            0.1       1.0   \n",
       "\n",
       "     NMI    ARI    ACC  seed  \n",
       "0  79.42  53.29  64.74   3.5  \n",
       "1  93.89  79.79  86.55   3.5  \n",
       "2  76.37  61.99  79.21   3.0  "
      ]
     },
     "execution_count": 3,
     "metadata": {},
     "output_type": "execute_result"
    }
   ],
   "source": [
    "df_mean"
   ]
  },
  {
   "cell_type": "code",
   "execution_count": null,
   "metadata": {},
   "outputs": [],
   "source": []
  }
 ],
 "metadata": {
  "kernelspec": {
   "display_name": "env_",
   "language": "python",
   "name": "env_"
  },
  "language_info": {
   "codemirror_mode": {
    "name": "ipython",
    "version": 3
   },
   "file_extension": ".py",
   "mimetype": "text/x-python",
   "name": "python",
   "nbconvert_exporter": "python",
   "pygments_lexer": "ipython3",
   "version": "3.8.5"
  }
 },
 "nbformat": 4,
 "nbformat_minor": 4
}
